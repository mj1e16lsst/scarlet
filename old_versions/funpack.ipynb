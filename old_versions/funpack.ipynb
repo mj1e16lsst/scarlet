{
 "cells": [
  {
   "cell_type": "code",
   "execution_count": 2,
   "metadata": {},
   "outputs": [],
   "source": [
    "import subprocess\n",
    "import os"
   ]
  },
  {
   "cell_type": "code",
   "execution_count": 35,
   "metadata": {},
   "outputs": [],
   "source": [
    "imageDir = '/home/mj1e16/scarlet/scarlet/data/globularCluster/MASKSNEW/MASKS/'\n",
    "outImageDir = '/home/mj1e16/scarlet/scarlet/data/globularCluster/alignedImages/'"
   ]
  },
  {
   "cell_type": "code",
   "execution_count": 36,
   "metadata": {},
   "outputs": [],
   "source": [
    "imageList = ['c4d_130511_040655_oow_z_v1.fits.fz','c4d_130511_035740_oow_r_v1.fits.fz',\n",
    "             'c4d_130511_040903_oow_g_v1.fits.fz', 'c4d_130511_040445_oow_i_v1.fits.fz',\n",
    "             'c4d_130511_041112_oow_u_v1.fits.fz']"
   ]
  },
  {
   "cell_type": "code",
   "execution_count": 37,
   "metadata": {},
   "outputs": [],
   "source": [
    "def makeOutName(inName,outDir):\n",
    "    loc1 = inName.index('.')\n",
    "    outName = outDir+inName[:loc1]+'_50.fits'\n",
    "    return outName"
   ]
  },
  {
   "cell_type": "code",
   "execution_count": 38,
   "metadata": {},
   "outputs": [],
   "source": [
    "outNameList = [makeOutName(x,outImageDir) for x in imageList]"
   ]
  },
  {
   "cell_type": "code",
   "execution_count": 39,
   "metadata": {},
   "outputs": [],
   "source": [
    "def makeCommand(inName, imageDir,outName, extension):\n",
    "    command = ['funpack','-E',str(extension),'-O',outName,imageDir+inName]\n",
    "    return command"
   ]
  },
  {
   "cell_type": "code",
   "execution_count": 40,
   "metadata": {},
   "outputs": [],
   "source": [
    "commands = []\n",
    "for x in range(len(imageList)):\n",
    "    commands.append(makeCommand(imageList[x],imageDir,outNameList[x],50))"
   ]
  },
  {
   "cell_type": "code",
   "execution_count": 41,
   "metadata": {},
   "outputs": [],
   "source": [
    "for x in commands:\n",
    "    subprocess.call(x)"
   ]
  },
  {
   "cell_type": "code",
   "execution_count": null,
   "metadata": {},
   "outputs": [],
   "source": []
  }
 ],
 "metadata": {
  "kernelspec": {
   "display_name": "Python scarletCC",
   "language": "python",
   "name": "scarletcc"
  },
  "language_info": {
   "codemirror_mode": {
    "name": "ipython",
    "version": 3
   },
   "file_extension": ".py",
   "mimetype": "text/x-python",
   "name": "python",
   "nbconvert_exporter": "python",
   "pygments_lexer": "ipython3",
   "version": "3.5.6"
  }
 },
 "nbformat": 4,
 "nbformat_minor": 2
}
